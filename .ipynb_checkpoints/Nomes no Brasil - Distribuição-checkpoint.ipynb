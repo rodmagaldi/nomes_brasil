{
 "cells": [
  {
   "cell_type": "markdown",
   "metadata": {},
   "source": [
    "# Distribuição dos nomes no Brasil, segundo dados do Censo IBGE 2010"
   ]
  },
  {
   "cell_type": "code",
   "execution_count": 1,
   "metadata": {
    "ExecuteTime": {
     "end_time": "2019-08-27T17:57:35.450878Z",
     "start_time": "2019-08-27T17:57:34.439545Z"
    }
   },
   "outputs": [],
   "source": [
    "import pandas as pd"
   ]
  },
  {
   "cell_type": "code",
   "execution_count": 2,
   "metadata": {
    "ExecuteTime": {
     "end_time": "2019-08-27T17:57:35.543590Z",
     "start_time": "2019-08-27T17:57:35.453834Z"
    }
   },
   "outputs": [],
   "source": [
    "data_raw = pd.read_csv(\"prenomes/data/nomes-censos-ibge.csv\")"
   ]
  },
  {
   "cell_type": "code",
   "execution_count": 3,
   "metadata": {
    "ExecuteTime": {
     "end_time": "2019-08-27T17:57:35.574544Z",
     "start_time": "2019-08-27T17:57:35.544600Z"
    }
   },
   "outputs": [
    {
     "data": {
      "text/html": [
       "<div>\n",
       "<style scoped>\n",
       "    .dataframe tbody tr th:only-of-type {\n",
       "        vertical-align: middle;\n",
       "    }\n",
       "\n",
       "    .dataframe tbody tr th {\n",
       "        vertical-align: top;\n",
       "    }\n",
       "\n",
       "    .dataframe thead th {\n",
       "        text-align: right;\n",
       "    }\n",
       "</style>\n",
       "<table border=\"1\" class=\"dataframe\">\n",
       "  <thead>\n",
       "    <tr style=\"text-align: right;\">\n",
       "      <th></th>\n",
       "      <th>Nome</th>\n",
       "      <th>ate1930</th>\n",
       "      <th>ate1940</th>\n",
       "      <th>ate1950</th>\n",
       "      <th>ate1960</th>\n",
       "      <th>ate1970</th>\n",
       "      <th>ate1980</th>\n",
       "      <th>ate1990</th>\n",
       "      <th>ate2000</th>\n",
       "      <th>ate2010</th>\n",
       "    </tr>\n",
       "  </thead>\n",
       "  <tbody>\n",
       "    <tr>\n",
       "      <th>0</th>\n",
       "      <td>MARIA</td>\n",
       "      <td>336477.0</td>\n",
       "      <td>749053.0</td>\n",
       "      <td>1487042.0</td>\n",
       "      <td>2476482.0</td>\n",
       "      <td>2495491.0</td>\n",
       "      <td>1616019.0</td>\n",
       "      <td>917968.0</td>\n",
       "      <td>544296.0</td>\n",
       "      <td>1111301.0</td>\n",
       "    </tr>\n",
       "    <tr>\n",
       "      <th>1</th>\n",
       "      <td>ANA</td>\n",
       "      <td>33395.0</td>\n",
       "      <td>56160.0</td>\n",
       "      <td>101259.0</td>\n",
       "      <td>183941.0</td>\n",
       "      <td>292835.0</td>\n",
       "      <td>421531.0</td>\n",
       "      <td>529266.0</td>\n",
       "      <td>536302.0</td>\n",
       "      <td>935169.0</td>\n",
       "    </tr>\n",
       "    <tr>\n",
       "      <th>2</th>\n",
       "      <td>JOAO</td>\n",
       "      <td>60155.0</td>\n",
       "      <td>141772.0</td>\n",
       "      <td>256001.0</td>\n",
       "      <td>396438.0</td>\n",
       "      <td>429148.0</td>\n",
       "      <td>279975.0</td>\n",
       "      <td>273960.0</td>\n",
       "      <td>352552.0</td>\n",
       "      <td>794118.0</td>\n",
       "    </tr>\n",
       "    <tr>\n",
       "      <th>3</th>\n",
       "      <td>GABRIEL</td>\n",
       "      <td>1267.0</td>\n",
       "      <td>2744.0</td>\n",
       "      <td>4256.0</td>\n",
       "      <td>6095.0</td>\n",
       "      <td>6559.0</td>\n",
       "      <td>9103.0</td>\n",
       "      <td>46996.0</td>\n",
       "      <td>271405.0</td>\n",
       "      <td>584024.0</td>\n",
       "    </tr>\n",
       "    <tr>\n",
       "      <th>4</th>\n",
       "      <td>LUCAS</td>\n",
       "      <td>388.0</td>\n",
       "      <td>937.0</td>\n",
       "      <td>1593.0</td>\n",
       "      <td>2787.0</td>\n",
       "      <td>4425.0</td>\n",
       "      <td>9954.0</td>\n",
       "      <td>84484.0</td>\n",
       "      <td>517436.0</td>\n",
       "      <td>505306.0</td>\n",
       "    </tr>\n",
       "  </tbody>\n",
       "</table>\n",
       "</div>"
      ],
      "text/plain": [
       "      Nome   ate1930   ate1940    ate1950    ate1960    ate1970    ate1980  \\\n",
       "0    MARIA  336477.0  749053.0  1487042.0  2476482.0  2495491.0  1616019.0   \n",
       "1      ANA   33395.0   56160.0   101259.0   183941.0   292835.0   421531.0   \n",
       "2     JOAO   60155.0  141772.0   256001.0   396438.0   429148.0   279975.0   \n",
       "3  GABRIEL    1267.0    2744.0     4256.0     6095.0     6559.0     9103.0   \n",
       "4    LUCAS     388.0     937.0     1593.0     2787.0     4425.0     9954.0   \n",
       "\n",
       "    ate1990   ate2000    ate2010  \n",
       "0  917968.0  544296.0  1111301.0  \n",
       "1  529266.0  536302.0   935169.0  \n",
       "2  273960.0  352552.0   794118.0  \n",
       "3   46996.0  271405.0   584024.0  \n",
       "4   84484.0  517436.0   505306.0  "
      ]
     },
     "execution_count": 3,
     "metadata": {},
     "output_type": "execute_result"
    }
   ],
   "source": [
    "data_raw.head()"
   ]
  },
  {
   "cell_type": "code",
   "execution_count": 4,
   "metadata": {
    "ExecuteTime": {
     "end_time": "2019-08-27T17:57:35.605494Z",
     "start_time": "2019-08-27T17:57:35.576532Z"
    }
   },
   "outputs": [],
   "source": [
    "data_raw[\"Soma\"] = data_raw['ate1930'] + data_raw['ate1940'] + data_raw['ate1950'] + data_raw['ate1960'] + data_raw['ate1970'] + data_raw['ate1980'] + data_raw['ate1990'] + data_raw['ate2000'] + data_raw['ate2010']"
   ]
  },
  {
   "cell_type": "code",
   "execution_count": 5,
   "metadata": {
    "ExecuteTime": {
     "end_time": "2019-08-27T17:57:35.626463Z",
     "start_time": "2019-08-27T17:57:35.608457Z"
    }
   },
   "outputs": [],
   "source": [
    "data = data_raw[['Nome', 'Soma']]"
   ]
  },
  {
   "cell_type": "code",
   "execution_count": 6,
   "metadata": {
    "ExecuteTime": {
     "end_time": "2019-08-27T17:57:35.640332Z",
     "start_time": "2019-08-27T17:57:35.629389Z"
    }
   },
   "outputs": [
    {
     "data": {
      "text/html": [
       "<div>\n",
       "<style scoped>\n",
       "    .dataframe tbody tr th:only-of-type {\n",
       "        vertical-align: middle;\n",
       "    }\n",
       "\n",
       "    .dataframe tbody tr th {\n",
       "        vertical-align: top;\n",
       "    }\n",
       "\n",
       "    .dataframe thead th {\n",
       "        text-align: right;\n",
       "    }\n",
       "</style>\n",
       "<table border=\"1\" class=\"dataframe\">\n",
       "  <thead>\n",
       "    <tr style=\"text-align: right;\">\n",
       "      <th></th>\n",
       "      <th>Nome</th>\n",
       "      <th>Soma</th>\n",
       "    </tr>\n",
       "  </thead>\n",
       "  <tbody>\n",
       "    <tr>\n",
       "      <th>0</th>\n",
       "      <td>MARIA</td>\n",
       "      <td>11734129.0</td>\n",
       "    </tr>\n",
       "    <tr>\n",
       "      <th>1</th>\n",
       "      <td>ANA</td>\n",
       "      <td>3089858.0</td>\n",
       "    </tr>\n",
       "    <tr>\n",
       "      <th>2</th>\n",
       "      <td>JOAO</td>\n",
       "      <td>2984119.0</td>\n",
       "    </tr>\n",
       "    <tr>\n",
       "      <th>3</th>\n",
       "      <td>GABRIEL</td>\n",
       "      <td>932449.0</td>\n",
       "    </tr>\n",
       "    <tr>\n",
       "      <th>4</th>\n",
       "      <td>LUCAS</td>\n",
       "      <td>1127310.0</td>\n",
       "    </tr>\n",
       "  </tbody>\n",
       "</table>\n",
       "</div>"
      ],
      "text/plain": [
       "      Nome        Soma\n",
       "0    MARIA  11734129.0\n",
       "1      ANA   3089858.0\n",
       "2     JOAO   2984119.0\n",
       "3  GABRIEL    932449.0\n",
       "4    LUCAS   1127310.0"
      ]
     },
     "execution_count": 6,
     "metadata": {},
     "output_type": "execute_result"
    }
   ],
   "source": [
    "data.head()"
   ]
  },
  {
   "cell_type": "code",
   "execution_count": 7,
   "metadata": {
    "ExecuteTime": {
     "end_time": "2019-08-27T17:57:35.656291Z",
     "start_time": "2019-08-27T17:57:35.646317Z"
    }
   },
   "outputs": [
    {
     "data": {
      "text/html": [
       "<div>\n",
       "<style scoped>\n",
       "    .dataframe tbody tr th:only-of-type {\n",
       "        vertical-align: middle;\n",
       "    }\n",
       "\n",
       "    .dataframe tbody tr th {\n",
       "        vertical-align: top;\n",
       "    }\n",
       "\n",
       "    .dataframe thead th {\n",
       "        text-align: right;\n",
       "    }\n",
       "</style>\n",
       "<table border=\"1\" class=\"dataframe\">\n",
       "  <thead>\n",
       "    <tr style=\"text-align: right;\">\n",
       "      <th></th>\n",
       "      <th>Nome</th>\n",
       "      <th>Soma</th>\n",
       "    </tr>\n",
       "  </thead>\n",
       "  <tbody>\n",
       "    <tr>\n",
       "      <th>64454</th>\n",
       "      <td>FUJIE</td>\n",
       "      <td>NaN</td>\n",
       "    </tr>\n",
       "    <tr>\n",
       "      <th>64455</th>\n",
       "      <td>GIUSEPINA</td>\n",
       "      <td>NaN</td>\n",
       "    </tr>\n",
       "    <tr>\n",
       "      <th>64456</th>\n",
       "      <td>NELLO</td>\n",
       "      <td>NaN</td>\n",
       "    </tr>\n",
       "    <tr>\n",
       "      <th>64457</th>\n",
       "      <td>SYLLA</td>\n",
       "      <td>NaN</td>\n",
       "    </tr>\n",
       "    <tr>\n",
       "      <th>64458</th>\n",
       "      <td>VENOZINA</td>\n",
       "      <td>NaN</td>\n",
       "    </tr>\n",
       "  </tbody>\n",
       "</table>\n",
       "</div>"
      ],
      "text/plain": [
       "            Nome  Soma\n",
       "64454      FUJIE   NaN\n",
       "64455  GIUSEPINA   NaN\n",
       "64456      NELLO   NaN\n",
       "64457      SYLLA   NaN\n",
       "64458   VENOZINA   NaN"
      ]
     },
     "execution_count": 7,
     "metadata": {},
     "output_type": "execute_result"
    }
   ],
   "source": [
    "data.tail()"
   ]
  },
  {
   "cell_type": "code",
   "execution_count": 8,
   "metadata": {
    "ExecuteTime": {
     "end_time": "2019-08-27T17:57:35.664748Z",
     "start_time": "2019-08-27T17:57:35.659282Z"
    }
   },
   "outputs": [
    {
     "data": {
      "text/plain": [
       "(64459, 2)"
      ]
     },
     "execution_count": 8,
     "metadata": {},
     "output_type": "execute_result"
    }
   ],
   "source": [
    "data.shape"
   ]
  },
  {
   "cell_type": "code",
   "execution_count": 9,
   "metadata": {
    "ExecuteTime": {
     "end_time": "2019-08-27T17:57:35.679228Z",
     "start_time": "2019-08-27T17:57:35.668259Z"
    }
   },
   "outputs": [
    {
     "data": {
      "text/plain": [
       "<bound method NDFrame.describe of             Nome        Soma\n",
       "0          MARIA  11734129.0\n",
       "1            ANA   3089858.0\n",
       "2           JOAO   2984119.0\n",
       "3        GABRIEL    932449.0\n",
       "4          LUCAS   1127310.0\n",
       "...          ...         ...\n",
       "64454      FUJIE         NaN\n",
       "64455  GIUSEPINA         NaN\n",
       "64456      NELLO         NaN\n",
       "64457      SYLLA         NaN\n",
       "64458   VENOZINA         NaN\n",
       "\n",
       "[64459 rows x 2 columns]>"
      ]
     },
     "execution_count": 9,
     "metadata": {},
     "output_type": "execute_result"
    }
   ],
   "source": [
    "data.describe"
   ]
  },
  {
   "cell_type": "code",
   "execution_count": 10,
   "metadata": {
    "ExecuteTime": {
     "end_time": "2019-08-27T17:57:35.699176Z",
     "start_time": "2019-08-27T17:57:35.682221Z"
    }
   },
   "outputs": [
    {
     "name": "stdout",
     "output_type": "stream",
     "text": [
      "<class 'pandas.core.frame.DataFrame'>\n",
      "RangeIndex: 64459 entries, 0 to 64458\n",
      "Data columns (total 2 columns):\n",
      "Nome    64458 non-null object\n",
      "Soma    2853 non-null float64\n",
      "dtypes: float64(1), object(1)\n",
      "memory usage: 1007.3+ KB\n"
     ]
    }
   ],
   "source": [
    "data.info()"
   ]
  },
  {
   "cell_type": "code",
   "execution_count": 11,
   "metadata": {
    "ExecuteTime": {
     "end_time": "2019-08-27T17:57:35.714171Z",
     "start_time": "2019-08-27T17:57:35.702579Z"
    }
   },
   "outputs": [],
   "source": [
    "data = data.dropna()"
   ]
  },
  {
   "cell_type": "code",
   "execution_count": 12,
   "metadata": {
    "ExecuteTime": {
     "end_time": "2019-08-27T17:57:35.725123Z",
     "start_time": "2019-08-27T17:57:35.716845Z"
    }
   },
   "outputs": [
    {
     "name": "stdout",
     "output_type": "stream",
     "text": [
      "<class 'pandas.core.frame.DataFrame'>\n",
      "Int64Index: 2853 entries, 0 to 29540\n",
      "Data columns (total 2 columns):\n",
      "Nome    2853 non-null object\n",
      "Soma    2853 non-null float64\n",
      "dtypes: float64(1), object(1)\n",
      "memory usage: 66.9+ KB\n"
     ]
    }
   ],
   "source": [
    "data.info()"
   ]
  },
  {
   "cell_type": "code",
   "execution_count": 13,
   "metadata": {
    "ExecuteTime": {
     "end_time": "2019-08-27T17:57:35.734132Z",
     "start_time": "2019-08-27T17:57:35.728098Z"
    }
   },
   "outputs": [
    {
     "data": {
      "text/plain": [
       "(2853, 2)"
      ]
     },
     "execution_count": 13,
     "metadata": {},
     "output_type": "execute_result"
    }
   ],
   "source": [
    "data.shape"
   ]
  },
  {
   "cell_type": "code",
   "execution_count": 27,
   "metadata": {
    "ExecuteTime": {
     "end_time": "2019-08-27T18:00:40.803403Z",
     "start_time": "2019-08-27T18:00:40.794505Z"
    }
   },
   "outputs": [
    {
     "data": {
      "text/html": [
       "<div>\n",
       "<style scoped>\n",
       "    .dataframe tbody tr th:only-of-type {\n",
       "        vertical-align: middle;\n",
       "    }\n",
       "\n",
       "    .dataframe tbody tr th {\n",
       "        vertical-align: top;\n",
       "    }\n",
       "\n",
       "    .dataframe thead th {\n",
       "        text-align: right;\n",
       "    }\n",
       "</style>\n",
       "<table border=\"1\" class=\"dataframe\">\n",
       "  <thead>\n",
       "    <tr style=\"text-align: right;\">\n",
       "      <th></th>\n",
       "      <th>Nome</th>\n",
       "      <th>Soma</th>\n",
       "    </tr>\n",
       "  </thead>\n",
       "  <tbody>\n",
       "    <tr>\n",
       "      <th>15749</th>\n",
       "      <td>AFRA</td>\n",
       "      <td>1198.0</td>\n",
       "    </tr>\n",
       "    <tr>\n",
       "      <th>3512</th>\n",
       "      <td>NOELIA</td>\n",
       "      <td>11247.0</td>\n",
       "    </tr>\n",
       "    <tr>\n",
       "      <th>16417</th>\n",
       "      <td>HILDEBRANDO</td>\n",
       "      <td>2612.0</td>\n",
       "    </tr>\n",
       "    <tr>\n",
       "      <th>166</th>\n",
       "      <td>MANUELA</td>\n",
       "      <td>61231.0</td>\n",
       "    </tr>\n",
       "    <tr>\n",
       "      <th>26567</th>\n",
       "      <td>VIRGINA</td>\n",
       "      <td>690.0</td>\n",
       "    </tr>\n",
       "  </tbody>\n",
       "</table>\n",
       "</div>"
      ],
      "text/plain": [
       "              Nome     Soma\n",
       "15749         AFRA   1198.0\n",
       "3512        NOELIA  11247.0\n",
       "16417  HILDEBRANDO   2612.0\n",
       "166        MANUELA  61231.0\n",
       "26567      VIRGINA    690.0"
      ]
     },
     "execution_count": 27,
     "metadata": {},
     "output_type": "execute_result"
    }
   ],
   "source": [
    "data.sample(5)"
   ]
  },
  {
   "cell_type": "code",
   "execution_count": 15,
   "metadata": {
    "ExecuteTime": {
     "end_time": "2019-08-27T17:57:36.746408Z",
     "start_time": "2019-08-27T17:57:35.754028Z"
    }
   },
   "outputs": [],
   "source": [
    "import seaborn as sns\n",
    "import matplotlib.pyplot as plt\n",
    "import string\n",
    "import numpy as np"
   ]
  },
  {
   "cell_type": "code",
   "execution_count": 16,
   "metadata": {
    "ExecuteTime": {
     "end_time": "2019-08-27T17:57:36.753353Z",
     "start_time": "2019-08-27T17:57:36.749367Z"
    }
   },
   "outputs": [],
   "source": [
    "alfabeto = list(string.ascii_uppercase)"
   ]
  },
  {
   "cell_type": "code",
   "execution_count": 17,
   "metadata": {
    "ExecuteTime": {
     "end_time": "2019-08-27T17:57:36.766320Z",
     "start_time": "2019-08-27T17:57:36.756346Z"
    }
   },
   "outputs": [
    {
     "data": {
      "text/plain": [
       "0"
      ]
     },
     "execution_count": 17,
     "metadata": {},
     "output_type": "execute_result"
    }
   ],
   "source": [
    "alfabeto.index(\"A\")"
   ]
  },
  {
   "cell_type": "code",
   "execution_count": 18,
   "metadata": {
    "ExecuteTime": {
     "end_time": "2019-08-27T17:57:36.776320Z",
     "start_time": "2019-08-27T17:57:36.770362Z"
    }
   },
   "outputs": [],
   "source": [
    "quantidade = np.zeros(len(alfabeto))"
   ]
  },
  {
   "cell_type": "code",
   "execution_count": 19,
   "metadata": {
    "ExecuteTime": {
     "end_time": "2019-08-27T17:57:36.790293Z",
     "start_time": "2019-08-27T17:57:36.780283Z"
    }
   },
   "outputs": [
    {
     "data": {
      "text/plain": [
       "array([0., 0., 0., 0., 0., 0., 0., 0., 0., 0., 0., 0., 0., 0., 0., 0., 0.,\n",
       "       0., 0., 0., 0., 0., 0., 0., 0., 0.])"
      ]
     },
     "execution_count": 19,
     "metadata": {},
     "output_type": "execute_result"
    }
   ],
   "source": [
    "quantidade"
   ]
  },
  {
   "cell_type": "code",
   "execution_count": 20,
   "metadata": {
    "ExecuteTime": {
     "end_time": "2019-08-27T17:57:36.805284Z",
     "start_time": "2019-08-27T17:57:36.797245Z"
    }
   },
   "outputs": [
    {
     "data": {
      "text/plain": [
       "26"
      ]
     },
     "execution_count": 20,
     "metadata": {},
     "output_type": "execute_result"
    }
   ],
   "source": [
    "len(alfabeto)"
   ]
  },
  {
   "cell_type": "code",
   "execution_count": 21,
   "metadata": {
    "ExecuteTime": {
     "end_time": "2019-08-27T17:57:38.317530Z",
     "start_time": "2019-08-27T17:57:36.811205Z"
    }
   },
   "outputs": [],
   "source": [
    "for index, row in data.iterrows():\n",
    "    for letra in alfabeto:\n",
    "        if letra == row[\"Nome\"][0]:\n",
    "            quantidade[alfabeto.index(letra)] += row[\"Soma\"]"
   ]
  },
  {
   "cell_type": "code",
   "execution_count": 22,
   "metadata": {
    "ExecuteTime": {
     "end_time": "2019-08-27T17:57:38.325147Z",
     "start_time": "2019-08-27T17:57:38.320183Z"
    }
   },
   "outputs": [
    {
     "data": {
      "text/plain": [
       "array([1.7275303e+07, 2.7024940e+06, 7.6404330e+06, 4.9071660e+06,\n",
       "       7.4449040e+06, 6.6492110e+06, 4.9950830e+06, 1.2095900e+06,\n",
       "       3.4384540e+06, 1.5749181e+07, 2.0545300e+05, 1.0060237e+07,\n",
       "       2.2603221e+07, 2.8666790e+06, 1.1773520e+06, 3.9829610e+06,\n",
       "       3.8101000e+04, 9.2353200e+06, 5.4801090e+06, 2.7257930e+06,\n",
       "       8.9502000e+04, 5.1407480e+06, 1.0012960e+06, 1.8000000e+03,\n",
       "       4.3565000e+04, 4.0486700e+05])"
      ]
     },
     "execution_count": 22,
     "metadata": {},
     "output_type": "execute_result"
    }
   ],
   "source": [
    "quantidade"
   ]
  },
  {
   "cell_type": "code",
   "execution_count": 23,
   "metadata": {
    "ExecuteTime": {
     "end_time": "2019-08-27T17:57:38.333127Z",
     "start_time": "2019-08-27T17:57:38.328142Z"
    }
   },
   "outputs": [],
   "source": [
    "alfabeto = np.array(alfabeto)"
   ]
  },
  {
   "cell_type": "code",
   "execution_count": 24,
   "metadata": {
    "ExecuteTime": {
     "end_time": "2019-08-27T17:57:38.342139Z",
     "start_time": "2019-08-27T17:57:38.335158Z"
    }
   },
   "outputs": [
    {
     "data": {
      "text/plain": [
       "array(['A', 'B', 'C', 'D', 'E', 'F', 'G', 'H', 'I', 'J', 'K', 'L', 'M',\n",
       "       'N', 'O', 'P', 'Q', 'R', 'S', 'T', 'U', 'V', 'W', 'X', 'Y', 'Z'],\n",
       "      dtype='<U1')"
      ]
     },
     "execution_count": 24,
     "metadata": {},
     "output_type": "execute_result"
    }
   ],
   "source": [
    "alfabeto"
   ]
  },
  {
   "cell_type": "code",
   "execution_count": 25,
   "metadata": {
    "ExecuteTime": {
     "end_time": "2019-08-27T17:57:38.349086Z",
     "start_time": "2019-08-27T17:57:38.344098Z"
    }
   },
   "outputs": [
    {
     "data": {
      "text/plain": [
       "array([1.7275303e+07, 2.7024940e+06, 7.6404330e+06, 4.9071660e+06,\n",
       "       7.4449040e+06, 6.6492110e+06, 4.9950830e+06, 1.2095900e+06,\n",
       "       3.4384540e+06, 1.5749181e+07, 2.0545300e+05, 1.0060237e+07,\n",
       "       2.2603221e+07, 2.8666790e+06, 1.1773520e+06, 3.9829610e+06,\n",
       "       3.8101000e+04, 9.2353200e+06, 5.4801090e+06, 2.7257930e+06,\n",
       "       8.9502000e+04, 5.1407480e+06, 1.0012960e+06, 1.8000000e+03,\n",
       "       4.3565000e+04, 4.0486700e+05])"
      ]
     },
     "execution_count": 25,
     "metadata": {},
     "output_type": "execute_result"
    }
   ],
   "source": [
    "quantidade"
   ]
  },
  {
   "cell_type": "code",
   "execution_count": 26,
   "metadata": {
    "ExecuteTime": {
     "end_time": "2019-08-27T17:57:38.888641Z",
     "start_time": "2019-08-27T17:57:38.351079Z"
    }
   },
   "outputs": [
    {
     "data": {
      "text/plain": [
       "<matplotlib.axes._subplots.AxesSubplot at 0x289bd1fdba8>"
      ]
     },
     "execution_count": 26,
     "metadata": {},
     "output_type": "execute_result"
    },
    {
     "data": {
      "image/png": "[encoded data removed]",
      "text/plain": [
       "<Figure size 432x288 with 1 Axes>"
      ]
     },
     "metadata": {},
     "output_type": "display_data"
    }
   ],
   "source": [
    "sns.barplot(x=alfabeto, y=quantidade)"
   ]
  }
 ],
 "metadata": {
  "kernelspec": {
   "display_name": "Python 3",
   "language": "python",
   "name": "python3"
  },
  "language_info": {
   "codemirror_mode": {
    "name": "ipython",
    "version": 3
   },
   "file_extension": ".py",
   "mimetype": "text/x-python",
   "name": "python",
   "nbconvert_exporter": "python",
   "pygments_lexer": "ipython3",
   "version": "3.6.5"
  },
  "varInspector": {
   "cols": {
    "lenName": 16,
    "lenType": 16,
    "lenVar": 40
   },
   "kernels_config": {
    "python": {
     "delete_cmd_postfix": "",
     "delete_cmd_prefix": "del ",
     "library": "var_list.py",
     "varRefreshCmd": "print(var_dic_list())"
    },
    "r": {
     "delete_cmd_postfix": ") ",
     "delete_cmd_prefix": "rm(",
     "library": "var_list.r",
     "varRefreshCmd": "cat(var_dic_list()) "
    }
   },
   "types_to_exclude": [
    "module",
    "function",
    "builtin_function_or_method",
    "instance",
    "_Feature"
   ],
   "window_display": false
  }
 },
 "nbformat": 4,
 "nbformat_minor": 2
}
