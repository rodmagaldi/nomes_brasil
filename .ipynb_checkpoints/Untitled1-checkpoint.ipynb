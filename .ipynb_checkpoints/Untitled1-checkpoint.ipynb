{
 "cells": [
  {
   "cell_type": "markdown",
   "metadata": {},
   "source": [
    "# Distribuição dos nomes"
   ]
  },
  {
   "cell_type": "code",
   "execution_count": 1,
   "metadata": {
    "ExecuteTime": {
     "end_time": "2019-08-27T17:37:22.132701Z",
     "start_time": "2019-08-27T17:37:21.297675Z"
    }
   },
   "outputs": [],
   "source": [
    "import pandas as pd"
   ]
  },
  {
   "cell_type": "code",
   "execution_count": 3,
   "metadata": {
    "ExecuteTime": {
     "end_time": "2019-08-27T17:37:59.881041Z",
     "start_time": "2019-08-27T17:37:59.794272Z"
    }
   },
   "outputs": [],
   "source": [
    "data_raw = pd.read_csv(\"prenomes/data/nomes-censos-ibge.csv\")"
   ]
  },
  {
   "cell_type": "code",
   "execution_count": 4,
   "metadata": {
    "ExecuteTime": {
     "end_time": "2019-08-27T17:38:04.817877Z",
     "start_time": "2019-08-27T17:38:04.797832Z"
    }
   },
   "outputs": [
    {
     "data": {
      "text/html": [
       "<div>\n",
       "<style scoped>\n",
       "    .dataframe tbody tr th:only-of-type {\n",
       "        vertical-align: middle;\n",
       "    }\n",
       "\n",
       "    .dataframe tbody tr th {\n",
       "        vertical-align: top;\n",
       "    }\n",
       "\n",
       "    .dataframe thead th {\n",
       "        text-align: right;\n",
       "    }\n",
       "</style>\n",
       "<table border=\"1\" class=\"dataframe\">\n",
       "  <thead>\n",
       "    <tr style=\"text-align: right;\">\n",
       "      <th></th>\n",
       "      <th>Nome</th>\n",
       "      <th>ate1930</th>\n",
       "      <th>ate1940</th>\n",
       "      <th>ate1950</th>\n",
       "      <th>ate1960</th>\n",
       "      <th>ate1970</th>\n",
       "      <th>ate1980</th>\n",
       "      <th>ate1990</th>\n",
       "      <th>ate2000</th>\n",
       "      <th>ate2010</th>\n",
       "    </tr>\n",
       "  </thead>\n",
       "  <tbody>\n",
       "    <tr>\n",
       "      <th>0</th>\n",
       "      <td>MARIA</td>\n",
       "      <td>336477.0</td>\n",
       "      <td>749053.0</td>\n",
       "      <td>1487042.0</td>\n",
       "      <td>2476482.0</td>\n",
       "      <td>2495491.0</td>\n",
       "      <td>1616019.0</td>\n",
       "      <td>917968.0</td>\n",
       "      <td>544296.0</td>\n",
       "      <td>1111301.0</td>\n",
       "    </tr>\n",
       "    <tr>\n",
       "      <th>1</th>\n",
       "      <td>ANA</td>\n",
       "      <td>33395.0</td>\n",
       "      <td>56160.0</td>\n",
       "      <td>101259.0</td>\n",
       "      <td>183941.0</td>\n",
       "      <td>292835.0</td>\n",
       "      <td>421531.0</td>\n",
       "      <td>529266.0</td>\n",
       "      <td>536302.0</td>\n",
       "      <td>935169.0</td>\n",
       "    </tr>\n",
       "    <tr>\n",
       "      <th>2</th>\n",
       "      <td>JOAO</td>\n",
       "      <td>60155.0</td>\n",
       "      <td>141772.0</td>\n",
       "      <td>256001.0</td>\n",
       "      <td>396438.0</td>\n",
       "      <td>429148.0</td>\n",
       "      <td>279975.0</td>\n",
       "      <td>273960.0</td>\n",
       "      <td>352552.0</td>\n",
       "      <td>794118.0</td>\n",
       "    </tr>\n",
       "    <tr>\n",
       "      <th>3</th>\n",
       "      <td>GABRIEL</td>\n",
       "      <td>1267.0</td>\n",
       "      <td>2744.0</td>\n",
       "      <td>4256.0</td>\n",
       "      <td>6095.0</td>\n",
       "      <td>6559.0</td>\n",
       "      <td>9103.0</td>\n",
       "      <td>46996.0</td>\n",
       "      <td>271405.0</td>\n",
       "      <td>584024.0</td>\n",
       "    </tr>\n",
       "    <tr>\n",
       "      <th>4</th>\n",
       "      <td>LUCAS</td>\n",
       "      <td>388.0</td>\n",
       "      <td>937.0</td>\n",
       "      <td>1593.0</td>\n",
       "      <td>2787.0</td>\n",
       "      <td>4425.0</td>\n",
       "      <td>9954.0</td>\n",
       "      <td>84484.0</td>\n",
       "      <td>517436.0</td>\n",
       "      <td>505306.0</td>\n",
       "    </tr>\n",
       "  </tbody>\n",
       "</table>\n",
       "</div>"
      ],
      "text/plain": [
       "      Nome   ate1930   ate1940    ate1950    ate1960    ate1970    ate1980  \\\n",
       "0    MARIA  336477.0  749053.0  1487042.0  2476482.0  2495491.0  1616019.0   \n",
       "1      ANA   33395.0   56160.0   101259.0   183941.0   292835.0   421531.0   \n",
       "2     JOAO   60155.0  141772.0   256001.0   396438.0   429148.0   279975.0   \n",
       "3  GABRIEL    1267.0    2744.0     4256.0     6095.0     6559.0     9103.0   \n",
       "4    LUCAS     388.0     937.0     1593.0     2787.0     4425.0     9954.0   \n",
       "\n",
       "    ate1990   ate2000    ate2010  \n",
       "0  917968.0  544296.0  1111301.0  \n",
       "1  529266.0  536302.0   935169.0  \n",
       "2  273960.0  352552.0   794118.0  \n",
       "3   46996.0  271405.0   584024.0  \n",
       "4   84484.0  517436.0   505306.0  "
      ]
     },
     "execution_count": 4,
     "metadata": {},
     "output_type": "execute_result"
    }
   ],
   "source": [
    "data_raw.head()"
   ]
  },
  {
   "cell_type": "code",
   "execution_count": null,
   "metadata": {},
   "outputs": [],
   "source": [
    "data_raw[\"Soma\"] = data_raw['ate1930'] + data_raw['ate1940'] + data_raw['ate1950'] + data_raw['ate1960'] + data_raw['ate1970'] + data_raw['ate1980'] + data_raw['ate1990'] + data_raw['ate2000'] + "
   ]
  }
 ],
 "metadata": {
  "kernelspec": {
   "display_name": "Python 3",
   "language": "python",
   "name": "python3"
  },
  "language_info": {
   "codemirror_mode": {
    "name": "ipython",
    "version": 3
   },
   "file_extension": ".py",
   "mimetype": "text/x-python",
   "name": "python",
   "nbconvert_exporter": "python",
   "pygments_lexer": "ipython3",
   "version": "3.6.5"
  },
  "varInspector": {
   "cols": {
    "lenName": 16,
    "lenType": 16,
    "lenVar": 40
   },
   "kernels_config": {
    "python": {
     "delete_cmd_postfix": "",
     "delete_cmd_prefix": "del ",
     "library": "var_list.py",
     "varRefreshCmd": "print(var_dic_list())"
    },
    "r": {
     "delete_cmd_postfix": ") ",
     "delete_cmd_prefix": "rm(",
     "library": "var_list.r",
     "varRefreshCmd": "cat(var_dic_list()) "
    }
   },
   "types_to_exclude": [
    "module",
    "function",
    "builtin_function_or_method",
    "instance",
    "_Feature"
   ],
   "window_display": false
  }
 },
 "nbformat": 4,
 "nbformat_minor": 2
}
